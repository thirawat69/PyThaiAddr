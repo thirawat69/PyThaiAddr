{
 "cells": [
  {
   "cell_type": "markdown",
   "metadata": {},
   "source": [
    "# **Corpus**"
   ]
  },
  {
   "cell_type": "markdown",
   "metadata": {},
   "source": [
    "we make corpus base on data from [ThepExcel](https://github.com/ThepExcel/download/blob/master/ThepExcel-Thailand-Tambon.xlsx)\n",
    "\n",
    "And some result of accuracy test can see in [drive](https://drive.google.com/drive/folders/1B7Ajg9GvG6Kv_gcehbxHchIZPl9do_xL?usp=sharing)\n",
    "\n",
    "Name | \n",
    "--- | \n",
    "posible_address_original.txt                |\n",
    "posible_address.txt                         |\n",
    "Thai_addr_bigrame_frequency.txt             |\n",
    "Thai_addr_trigrame_frequency.txt            |\n",
    "Thai_addr_unigrame_frequency.txt            |\n",
    "Thai_addr_word_frequency.txt                |\n",
    "Thai_address_with_BKKraod.txt               |\n",
    "Thai_address.txt                            |\n",
    "\n",
    "\n",
    "\n",
    "\n",
    "\n",
    "\n",
    "\n",
    "\n"
   ]
  },
  {
   "cell_type": "markdown",
   "metadata": {},
   "source": [
    "---"
   ]
  },
  {
   "cell_type": "markdown",
   "metadata": {},
   "source": [
    "# **Tokenize** > newmm"
   ]
  },
  {
   "cell_type": "markdown",
   "metadata": {},
   "source": [
    "```\n",
    "ทดสอบ ประโยคเดิม n=100 r=5\n",
    "```\n",
    "\n",
    "```"
   ]
  },
  {
   "cell_type": "markdown",
   "metadata": {},
   "source": [
    "addr = \"ที่อยู่ 31/631 หมู่ที่ 16 แขวงพระบรมมหาราชวัง เขตพระนคร จ.กรุงเทพมหานคร\"\n",
    "\n",
    "tokenizer    | result | time(s) |\n",
    "| ---        | --- | --- |\n",
    "pythainlp | ['ที่อยู่', ' ', '31', '/', '631', ' ', 'หมู่', 'ที่', ' ', '16', ' ', 'แขวง', 'พระบรมมหาราชวัง', ' ', 'เขต', 'พระนคร', ' ', 'จ.', 'กรุงเทพมหานคร'] | 0.00032\n",
    "pythaiaddr        | ['ที่อยู่', ' ', '31', '/', '631', ' ', 'หมู่ที่', ' ', '16', ' ', 'แขวง', 'พระบรมมหาราชวัง', ' ', 'เขต', 'พระนคร', ' ', 'จ.', 'กรุงเทพมหานคร'] | 0.00020"
   ]
  },
  {
   "cell_type": "markdown",
   "metadata": {},
   "source": [
    "addr = \"ที่อยูล่ 31/631 หมูี่ที่ 16 แขใงพระบรมถหาราชวัง เขตพระนซคร กจ.กรุงเทถมหานคร\"\n",
    "\n",
    "tokenizer    | result | time(s) |\n",
    "| ---        | --- | --- |\n",
    "pythainlp | ['ที่', 'อ', 'ยู', 'ล่', ' ', '31', '/', '631', ' ', 'หมู', 'ี่', 'ที่', ' ', '16', ' ', 'แข', 'ใง', 'พระ', 'บรม', 'ถ', 'หา', 'ราช', 'วัง', ' ', 'เขต', 'พระ', 'นซคร', ' ', 'ก', 'จ.', 'กรุง', 'เท', 'ถม', 'หา', 'นคร'] | 0.00037\n",
    "pythaiaddr        | ['ที่อยูล่', ' ', '31', '/', '631', ' ', 'หมูี่ที่', ' ', '16', ' ', 'แขใงพระบรมถหาราชวัง', ' ', 'เขต', 'พระนซคร', ' ', 'ก', 'จ.', 'กรุงเทถมหานคร'] | 0.00023\n"
   ]
  },
  {
   "cell_type": "markdown",
   "metadata": {},
   "source": [
    "```\n",
    "ทดสอบประโยคต่างกัน n=7436 r=5\n",
    "```"
   ]
  },
  {
   "cell_type": "markdown",
   "metadata": {},
   "source": [
    "tokenizer    | time(s) |\n",
    "| ---        | --- |\n",
    "pythainlp | 0.00018 \n",
    "pythaiaddr | 0.00015"
   ]
  },
  {
   "cell_type": "markdown",
   "metadata": {},
   "source": [
    "```\n",
    "ทดสอบประโยคต่างกัน n=743600 r=5\n",
    "```"
   ]
  },
  {
   "cell_type": "markdown",
   "metadata": {},
   "source": [
    "tokenizer    | time(s) |\n",
    "| ---        | --- |\n",
    "pythainlp | 0.00017\n",
    "pythaiaddr | 0.00022\n"
   ]
  },
  {
   "cell_type": "markdown",
   "metadata": {},
   "source": [
    "---"
   ]
  },
  {
   "cell_type": "markdown",
   "metadata": {},
   "source": [
    "# **spell**"
   ]
  },
  {
   "cell_type": "markdown",
   "metadata": {},
   "source": [
    "## example"
   ]
  },
  {
   "cell_type": "markdown",
   "metadata": {},
   "source": [
    "```\n",
    "word = \"กรุงเทถมหานค\"\n",
    "```\n"
   ]
  },
  {
   "cell_type": "markdown",
   "metadata": {},
   "source": [
    "### pythainlp > Norvig's\n",
    "```\n",
    "['กรุงเทถมหานค']\n",
    "```"
   ]
  },
  {
   "cell_type": "markdown",
   "metadata": {},
   "source": [
    "### pythaiaddr > Norvig's\n",
    "```\n",
    "['กรุงเทพมหานคร']\n",
    "```"
   ]
  },
  {
   "cell_type": "markdown",
   "metadata": {},
   "source": [
    "### pythaiaddr > ediz\n",
    "```\n",
    "[('กรุงเทพมหานคร', 0.12), ('กรุงเทพกรีฑา', 0.41666666666666663), ('คลองมหานาค', 0.4545454545454546), ('สี่แยกมหานาค',      0.5), ('หนองกุงทับม้า', 0.52), ('แก้งเหนือ', 0.5238095238095238), ('กระทุ่มแบน', 0.5454545454545454), ('กระทุ่มราย', 0        0.5454545454545454), ('ทุ่งมหาเมฆ', 0.5454545454545454), ('สำโรงเหนือ', 0.5454545454545454)]\n",
    "```"
   ]
  },
  {
   "cell_type": "markdown",
   "metadata": {},
   "source": [
    "## perfomane"
   ]
  },
  {
   "cell_type": "markdown",
   "metadata": {},
   "source": [
    "test on 1 word, 2 edit, 12 char, \"กรุงเทถมหานค\"\n",
    "\n",
    "Engine | Time (s) \n",
    "--- | ---\n",
    "pythainlp > Norvig's | 2.96344 \n",
    "pythaiaddr > Norvig's | 3.42922\n",
    "pythaiaddr > ediz     | 0.01297 "
   ]
  },
  {
   "cell_type": "markdown",
   "metadata": {},
   "source": [
    "---"
   ]
  },
  {
   "cell_type": "markdown",
   "metadata": {},
   "source": [
    "# **Correct**"
   ]
  },
  {
   "cell_type": "markdown",
   "metadata": {},
   "source": [
    "## Accuracy correct address (word)\n",
    "\n",
    "test on 8945 word, 1 edit\n",
    "\n",
    "Engine | Accuracy (%) | Time (m) \n",
    "---| --- | ---\n",
    "pythainlp > Norvig's | 10.74 | 203\n",
    "pythaiaddr > Norvig's | 98.30 | 1\n",
    "pythaiaddr > ediz     | 97.72 | 1\n",
    "\n",
    "test on 8945 word, 2 edit\n",
    "\n",
    "Engine | Accuracy (%) | Time (m) \n",
    "---| --- | ---\n",
    "pythainlp > Norvig's | 09.32 | 243 \n",
    "pythaiaddr > Norvig's | 95.37 | 258\n",
    "pythaiaddr > ediz     | 92.59 | 1\n"
   ]
  },
  {
   "cell_type": "markdown",
   "metadata": {},
   "source": [
    "## Accuracy correct address (sentence)\n",
    "\n",
    "test on 7,436 address, 1 edit\n",
    "\n",
    "Engine | Accuracy(%) | Time(m)\n",
    "---| --- |---\n",
    "pythaiaddr > Norvig's | 0 | 686\n",
    "pythaiaddr > ediz     | 0 | 4 \n",
    "pythaiaddr > symapell | 0 | 9\n",
    "\n",
    "test on 7,436 address, 2 edit\n",
    "\n",
    "Engine | Accuracy(%) | Time(m)\n",
    "---| --- |---\n",
    "pythaiaddr > Norvig's | 0 | 1446\n",
    "pythaiaddr > ediz     | 0 | 4\n",
    "pythaiaddr > symapell | 0| 9\n"
   ]
  },
  {
   "cell_type": "markdown",
   "metadata": {},
   "source": [
    "```\n",
    "f\"{edit('ที่อยู่')} {tu()} {edit('หมู่ที่')} {mt()} แขวง{edit(df['T'][i])} เขต{edit(df['A'][i])} จ.{edit(df['J'][i])}\"\n",
    "```\n",
    "ข้อมูลทดสอบ fix หมายถึง ที่อยู่ที่เราสร้างขึ้นมาโดยไม่ใส่ noise เข้าไปในส่วนของคำว่า ['ที่อยู่', 'หมู่ที่', 'แขวง','ต.','อ.','เขต','จ.']\n",
    "\n",
    "\n",
    "test on 100 address, 1 edit-fix\n",
    "\n",
    "Engine | Accuracy(%) | Time(s)\n",
    "---| --- |---\n",
    "pythaiaddr > ediz     | 79 | 7.6 \n",
    "pythaiaddr > Norvig's | 74 | 0.5\n",
    "pythaiaddr > symapell | 43 | 7.8\n",
    "\n",
    "test on 100 address, 2 edit-fix\n",
    "\n",
    "Engine | Accuracy(%) | Time(s)\n",
    "---| --- |---\n",
    "pythaiaddr > ediz     | 79 | 8.4\n",
    "pythaiaddr > Norvig's | 86 | 21*60\n",
    "pythaiaddr > symapell | 74 | 8.1\n"
   ]
  },
  {
   "cell_type": "markdown",
   "metadata": {},
   "source": []
  }
 ],
 "metadata": {
  "kernelspec": {
   "display_name": "Python 3.8.10 64-bit (windows store)",
   "language": "python",
   "name": "python3"
  },
  "language_info": {
   "codemirror_mode": {
    "name": "ipython",
    "version": 3
   },
   "file_extension": ".py",
   "mimetype": "text/x-python",
   "name": "python",
   "nbconvert_exporter": "python",
   "pygments_lexer": "ipython3",
   "version": "3.8.10"
  },
  "orig_nbformat": 4,
  "vscode": {
   "interpreter": {
    "hash": "938392e4aef38c3a07ec334312e469eeef3700167194dcb044faa3e3eb74747d"
   }
  }
 },
 "nbformat": 4,
 "nbformat_minor": 2
}
